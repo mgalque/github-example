{
 "cells": [
  {
   "cell_type": "markdown",
   "metadata": {},
   "source": [
    "# Part 1"
   ]
  },
  {
   "cell_type": "markdown",
   "metadata": {},
   "source": [
    "#### Importing libraries required for the project"
   ]
  },
  {
   "cell_type": "code",
   "execution_count": 1,
   "metadata": {},
   "outputs": [
    {
     "name": "stdout",
     "output_type": "stream",
     "text": [
      "Collecting package metadata (current_repodata.json): ...working... done\n",
      "Solving environment: ...working... done\n",
      "\n",
      "## Package Plan ##\n",
      "\n",
      "  environment location: C:\\ProgramData\\Anaconda3\n",
      "\n",
      "  added / updated specs:\n",
      "    - beautifulsoup4\n",
      "\n",
      "\n",
      "The following packages will be SUPERSEDED by a higher-priority channel:\n",
      "\n",
      "  conda              conda-forge::conda-4.8.3-py37hc8dfbb8~ --> anaconda::conda-4.8.3-py37_0\n",
      "\n",
      "\n",
      "Preparing transaction: ...working... done\n",
      "Verifying transaction: ...working... done\n",
      "Executing transaction: ...working... done\n",
      "Collecting package metadata (current_repodata.json): ...working... done\n",
      "Solving environment: ...working... \n",
      "Warning: 8 possible package resolutions (only showing differing packages):\n",
      "  - anaconda/win-64::ca-certificates-2020.1.1-0, anaconda/win-64::certifi-2019.11.28-py37_0, anaconda/win-64::openssl-1.1.1d-he774522_4\n",
      "  - anaconda/win-64::certifi-2019.11.28-py37_0, anaconda/win-64::openssl-1.1.1d-he774522_4, defaults/win-64::ca-certificates-2020.1.1-0\n",
      "  - anaconda/win-64::ca-certificates-2020.1.1-0, anaconda/win-64::certifi-2019.11.28-py37_0, defaults/win-64::openssl-1.1.1d-he774522_4\n",
      "  - anaconda/win-64::certifi-2019.11.28-py37_0, defaults/win-64::ca-certificates-2020.1.1-0, defaults/win-64::openssl-1.1.1d-he774522_4\n",
      "  - anaconda/win-64::ca-certificates-2020.1.1-0, defaults/win-64::certifi-2019.11.28-py37_0, defaults/win-64::openssl-1.1.1d-he774522_4\n",
      "  - defaults/win-64::ca-certificates-2020.1.1-0, defaults/win-64::certifi-2019.11.28-py37_0, defaults/win-64::openssl-1.1.1d-he774522_4\n",
      "  - anaconda/win-64::ca-certificates-2020.1.1-0, anaconda/win-64::openssl-1.1.1d-he774522_4, defaults/win-64::certifi-2019.11.28-py37_0\n",
      "  - anaconda/win-64::openssl-1.1.1d-he774522_4, defaults/win-64::ca-certificates-2020.1.1-0, defaults/win-64::certifi-2019.11.28-py37_0done\n",
      "\n",
      "## Package Plan ##\n",
      "\n",
      "  environment location: C:\\ProgramData\\Anaconda3\n",
      "\n",
      "  added / updated specs:\n",
      "    - geopy\n",
      "\n",
      "\n",
      "The following packages will be UPDATED:\n",
      "\n",
      "  conda                        anaconda::conda-4.8.3-py37_0 --> conda-forge::conda-4.8.3-py37hc8dfbb8_1\n",
      "\n",
      "\n",
      "Preparing transaction: ...working... done\n",
      "Verifying transaction: ...working... done\n",
      "Executing transaction: ...working... done\n",
      "Collecting package metadata (current_repodata.json): ...working... done\n",
      "Solving environment: ...working... \n",
      "Warning: 8 possible package resolutions (only showing differing packages):\n",
      "  - anaconda/win-64::ca-certificates-2020.1.1-0, anaconda/win-64::certifi-2019.11.28-py37_0, anaconda/win-64::openssl-1.1.1d-he774522_4\n",
      "  - anaconda/win-64::ca-certificates-2020.1.1-0, anaconda/win-64::certifi-2019.11.28-py37_0, defaults/win-64::openssl-1.1.1d-he774522_4\n",
      "  - anaconda/win-64::certifi-2019.11.28-py37_0, anaconda/win-64::openssl-1.1.1d-he774522_4, defaults/win-64::ca-certificates-2020.1.1-0\n",
      "  - anaconda/win-64::certifi-2019.11.28-py37_0, defaults/win-64::ca-certificates-2020.1.1-0, defaults/win-64::openssl-1.1.1d-he774522_4\n",
      "  - anaconda/win-64::openssl-1.1.1d-he774522_4, defaults/win-64::ca-certificates-2020.1.1-0, defaults/win-64::certifi-2019.11.28-py37_0\n",
      "  - defaults/win-64::ca-certificates-2020.1.1-0, defaults/win-64::certifi-2019.11.28-py37_0, defaults/win-64::openssl-1.1.1d-he774522_4\n",
      "  - anaconda/win-64::ca-certificates-2020.1.1-0, anaconda/win-64::openssl-1.1.1d-he774522_4, defaults/win-64::certifi-2019.11.28-py37_0\n",
      "  - anaconda/win-64::ca-certificates-2020.1.1-0, defaults/win-64::certifi-2019.11.28-py37_0, defaults/win-64::openssl-1.1.1d-he774522_4done\n",
      "\n",
      "# All requested packages already installed.\n",
      "\n",
      "Folium installed\n",
      "Libraries imported.\n"
     ]
    }
   ],
   "source": [
    "!conda install -c anaconda beautifulsoup4 --yes\n",
    "import bs4 as bs\n",
    "import urllib.request\n",
    "import requests # library to handle requests\n",
    "import pandas as pd # library for data analsysis\n",
    "import numpy as np # library to handle data in a vectorized manner\n",
    "import random # library for random number generation\n",
    "import matplotlib.pyplot as plt \n",
    "\n",
    "!conda install -c conda-forge geopy --yes \n",
    "from geopy.geocoders import Nominatim # module to convert an address into latitude and longitude values\n",
    "\n",
    "# libraries for displaying images\n",
    "from IPython.display import Image \n",
    "from IPython.core.display import HTML \n",
    "    \n",
    "# tranforming json file into a pandas dataframe library\n",
    "from pandas.io.json import json_normalize\n",
    "\n",
    "!conda install -c conda-forge folium=0.5.0 --yes\n",
    "import folium # plotting library\n",
    "\n",
    "print('Folium installed')\n",
    "print('Libraries imported.')"
   ]
  },
  {
   "cell_type": "markdown",
   "metadata": {},
   "source": [
    "##### calling the scrapper, reading the table and transforming the table into dataframe"
   ]
  },
  {
   "cell_type": "code",
   "execution_count": 2,
   "metadata": {},
   "outputs": [
    {
     "data": {
      "text/html": [
       "<div>\n",
       "<style scoped>\n",
       "    .dataframe tbody tr th:only-of-type {\n",
       "        vertical-align: middle;\n",
       "    }\n",
       "\n",
       "    .dataframe tbody tr th {\n",
       "        vertical-align: top;\n",
       "    }\n",
       "\n",
       "    .dataframe thead th {\n",
       "        text-align: right;\n",
       "    }\n",
       "</style>\n",
       "<table border=\"1\" class=\"dataframe\">\n",
       "  <thead>\n",
       "    <tr style=\"text-align: right;\">\n",
       "      <th></th>\n",
       "      <th>Postal code</th>\n",
       "      <th>Borough</th>\n",
       "      <th>Neighborhood</th>\n",
       "    </tr>\n",
       "  </thead>\n",
       "  <tbody>\n",
       "    <tr>\n",
       "      <th>0</th>\n",
       "      <td>M1A</td>\n",
       "      <td>Not assigned</td>\n",
       "      <td>NaN</td>\n",
       "    </tr>\n",
       "    <tr>\n",
       "      <th>1</th>\n",
       "      <td>M2A</td>\n",
       "      <td>Not assigned</td>\n",
       "      <td>NaN</td>\n",
       "    </tr>\n",
       "    <tr>\n",
       "      <th>2</th>\n",
       "      <td>M3A</td>\n",
       "      <td>North York</td>\n",
       "      <td>Parkwoods</td>\n",
       "    </tr>\n",
       "    <tr>\n",
       "      <th>3</th>\n",
       "      <td>M4A</td>\n",
       "      <td>North York</td>\n",
       "      <td>Victoria Village</td>\n",
       "    </tr>\n",
       "    <tr>\n",
       "      <th>4</th>\n",
       "      <td>M5A</td>\n",
       "      <td>Downtown Toronto</td>\n",
       "      <td>Regent Park / Harbourfront</td>\n",
       "    </tr>\n",
       "  </tbody>\n",
       "</table>\n",
       "</div>"
      ],
      "text/plain": [
       "  Postal code           Borough                Neighborhood\n",
       "0         M1A      Not assigned                         NaN\n",
       "1         M2A      Not assigned                         NaN\n",
       "2         M3A        North York                   Parkwoods\n",
       "3         M4A        North York            Victoria Village\n",
       "4         M5A  Downtown Toronto  Regent Park / Harbourfront"
      ]
     },
     "execution_count": 2,
     "metadata": {},
     "output_type": "execute_result"
    }
   ],
   "source": [
    "\n",
    "source = urllib.request.urlopen('https://en.wikipedia.org/wiki/List_of_postal_codes_of_Canada:_M').read()\n",
    "soup = bs.BeautifulSoup(source,'lxml')\n",
    "\n",
    "#  find element table with class wikitable\n",
    "table = soup.find('table', attrs={'class':'wikitable'})\n",
    "\n",
    "# get the first table in the page\n",
    "table = soup.find_all('table')\n",
    "\n",
    "#dataframes have html parser for tables\n",
    "df = pd.read_html(str(table))[0]\n",
    "\n",
    "\n",
    "\n",
    "df.head()\n"
   ]
  },
  {
   "cell_type": "markdown",
   "metadata": {},
   "source": [
    "#### removing the not assigned boroughs, select the indexes of the rows that match the criteria and dropped them and reset the index"
   ]
  },
  {
   "cell_type": "code",
   "execution_count": 3,
   "metadata": {
    "scrolled": true
   },
   "outputs": [
    {
     "data": {
      "text/html": [
       "<div>\n",
       "<style scoped>\n",
       "    .dataframe tbody tr th:only-of-type {\n",
       "        vertical-align: middle;\n",
       "    }\n",
       "\n",
       "    .dataframe tbody tr th {\n",
       "        vertical-align: top;\n",
       "    }\n",
       "\n",
       "    .dataframe thead th {\n",
       "        text-align: right;\n",
       "    }\n",
       "</style>\n",
       "<table border=\"1\" class=\"dataframe\">\n",
       "  <thead>\n",
       "    <tr style=\"text-align: right;\">\n",
       "      <th></th>\n",
       "      <th>Postal code</th>\n",
       "      <th>Borough</th>\n",
       "      <th>Neighborhood</th>\n",
       "    </tr>\n",
       "  </thead>\n",
       "  <tbody>\n",
       "    <tr>\n",
       "      <th>0</th>\n",
       "      <td>M3A</td>\n",
       "      <td>North York</td>\n",
       "      <td>Parkwoods</td>\n",
       "    </tr>\n",
       "    <tr>\n",
       "      <th>1</th>\n",
       "      <td>M4A</td>\n",
       "      <td>North York</td>\n",
       "      <td>Victoria Village</td>\n",
       "    </tr>\n",
       "    <tr>\n",
       "      <th>2</th>\n",
       "      <td>M5A</td>\n",
       "      <td>Downtown Toronto</td>\n",
       "      <td>Regent Park / Harbourfront</td>\n",
       "    </tr>\n",
       "    <tr>\n",
       "      <th>3</th>\n",
       "      <td>M6A</td>\n",
       "      <td>North York</td>\n",
       "      <td>Lawrence Manor / Lawrence Heights</td>\n",
       "    </tr>\n",
       "    <tr>\n",
       "      <th>4</th>\n",
       "      <td>M7A</td>\n",
       "      <td>Downtown Toronto</td>\n",
       "      <td>Queen's Park / Ontario Provincial Government</td>\n",
       "    </tr>\n",
       "  </tbody>\n",
       "</table>\n",
       "</div>"
      ],
      "text/plain": [
       "  Postal code           Borough                                  Neighborhood\n",
       "0         M3A        North York                                     Parkwoods\n",
       "1         M4A        North York                              Victoria Village\n",
       "2         M5A  Downtown Toronto                    Regent Park / Harbourfront\n",
       "3         M6A        North York             Lawrence Manor / Lawrence Heights\n",
       "4         M7A  Downtown Toronto  Queen's Park / Ontario Provincial Government"
      ]
     },
     "execution_count": 3,
     "metadata": {},
     "output_type": "execute_result"
    }
   ],
   "source": [
    "\n",
    "indexNames = df[df['Borough'] == 'Not assigned'].index\n",
    " \n",
    "df.drop(indexNames , inplace=True)\n",
    "df = df.reset_index(drop=True)\n",
    "\n",
    "df.head()"
   ]
  },
  {
   "cell_type": "code",
   "execution_count": 4,
   "metadata": {},
   "outputs": [
    {
     "data": {
      "text/html": [
       "<div>\n",
       "<style scoped>\n",
       "    .dataframe tbody tr th:only-of-type {\n",
       "        vertical-align: middle;\n",
       "    }\n",
       "\n",
       "    .dataframe tbody tr th {\n",
       "        vertical-align: top;\n",
       "    }\n",
       "\n",
       "    .dataframe thead th {\n",
       "        text-align: right;\n",
       "    }\n",
       "</style>\n",
       "<table border=\"1\" class=\"dataframe\">\n",
       "  <thead>\n",
       "    <tr style=\"text-align: right;\">\n",
       "      <th></th>\n",
       "      <th>Postal code</th>\n",
       "      <th>Borough</th>\n",
       "      <th>Neighborhood</th>\n",
       "    </tr>\n",
       "  </thead>\n",
       "  <tbody>\n",
       "  </tbody>\n",
       "</table>\n",
       "</div>"
      ],
      "text/plain": [
       "Empty DataFrame\n",
       "Columns: [Postal code, Borough, Neighborhood]\n",
       "Index: []"
      ]
     },
     "execution_count": 4,
     "metadata": {},
     "output_type": "execute_result"
    }
   ],
   "source": [
    " df[df['Neighborhood'] == ''].head()"
   ]
  },
  {
   "cell_type": "markdown",
   "metadata": {},
   "source": [
    "#### Replacing value of neighborhood with Borough when it's empty (though there isn't any)"
   ]
  },
  {
   "cell_type": "code",
   "execution_count": 5,
   "metadata": {
    "scrolled": true
   },
   "outputs": [
    {
     "data": {
      "text/html": [
       "<div>\n",
       "<style scoped>\n",
       "    .dataframe tbody tr th:only-of-type {\n",
       "        vertical-align: middle;\n",
       "    }\n",
       "\n",
       "    .dataframe tbody tr th {\n",
       "        vertical-align: top;\n",
       "    }\n",
       "\n",
       "    .dataframe thead th {\n",
       "        text-align: right;\n",
       "    }\n",
       "</style>\n",
       "<table border=\"1\" class=\"dataframe\">\n",
       "  <thead>\n",
       "    <tr style=\"text-align: right;\">\n",
       "      <th></th>\n",
       "      <th>Postal code</th>\n",
       "      <th>Borough</th>\n",
       "      <th>Neighborhood</th>\n",
       "    </tr>\n",
       "  </thead>\n",
       "  <tbody>\n",
       "    <tr>\n",
       "      <th>0</th>\n",
       "      <td>M3A</td>\n",
       "      <td>North York</td>\n",
       "      <td>Parkwoods</td>\n",
       "    </tr>\n",
       "    <tr>\n",
       "      <th>1</th>\n",
       "      <td>M4A</td>\n",
       "      <td>North York</td>\n",
       "      <td>Victoria Village</td>\n",
       "    </tr>\n",
       "    <tr>\n",
       "      <th>2</th>\n",
       "      <td>M5A</td>\n",
       "      <td>Downtown Toronto</td>\n",
       "      <td>Regent Park / Harbourfront</td>\n",
       "    </tr>\n",
       "    <tr>\n",
       "      <th>3</th>\n",
       "      <td>M6A</td>\n",
       "      <td>North York</td>\n",
       "      <td>Lawrence Manor / Lawrence Heights</td>\n",
       "    </tr>\n",
       "    <tr>\n",
       "      <th>4</th>\n",
       "      <td>M7A</td>\n",
       "      <td>Downtown Toronto</td>\n",
       "      <td>Queen's Park / Ontario Provincial Government</td>\n",
       "    </tr>\n",
       "  </tbody>\n",
       "</table>\n",
       "</div>"
      ],
      "text/plain": [
       "  Postal code           Borough                                  Neighborhood\n",
       "0         M3A        North York                                     Parkwoods\n",
       "1         M4A        North York                              Victoria Village\n",
       "2         M5A  Downtown Toronto                    Regent Park / Harbourfront\n",
       "3         M6A        North York             Lawrence Manor / Lawrence Heights\n",
       "4         M7A  Downtown Toronto  Queen's Park / Ontario Provincial Government"
      ]
     },
     "execution_count": 5,
     "metadata": {},
     "output_type": "execute_result"
    }
   ],
   "source": [
    "df['Neighborhood'].apply(lambda i: i if len(i)>0 else df['Borough'])\n",
    "\n",
    "df.head()"
   ]
  },
  {
   "cell_type": "markdown",
   "metadata": {},
   "source": [
    "#### Grouping together neighborhoods with the same postalcode and putting commas (there are no duplicate postal codes)\n"
   ]
  },
  {
   "cell_type": "code",
   "execution_count": 6,
   "metadata": {
    "scrolled": true
   },
   "outputs": [
    {
     "data": {
      "text/html": [
       "<div>\n",
       "<style scoped>\n",
       "    .dataframe tbody tr th:only-of-type {\n",
       "        vertical-align: middle;\n",
       "    }\n",
       "\n",
       "    .dataframe tbody tr th {\n",
       "        vertical-align: top;\n",
       "    }\n",
       "\n",
       "    .dataframe thead th {\n",
       "        text-align: right;\n",
       "    }\n",
       "</style>\n",
       "<table border=\"1\" class=\"dataframe\">\n",
       "  <thead>\n",
       "    <tr style=\"text-align: right;\">\n",
       "      <th></th>\n",
       "      <th>Postal code</th>\n",
       "      <th>Borough</th>\n",
       "      <th>Neighborhood</th>\n",
       "    </tr>\n",
       "  </thead>\n",
       "  <tbody>\n",
       "    <tr>\n",
       "      <th>0</th>\n",
       "      <td>M3A</td>\n",
       "      <td>North York</td>\n",
       "      <td>Parkwoods</td>\n",
       "    </tr>\n",
       "    <tr>\n",
       "      <th>1</th>\n",
       "      <td>M4A</td>\n",
       "      <td>North York</td>\n",
       "      <td>Victoria Village</td>\n",
       "    </tr>\n",
       "    <tr>\n",
       "      <th>2</th>\n",
       "      <td>M5A</td>\n",
       "      <td>Downtown Toronto</td>\n",
       "      <td>Regent Park / Harbourfront</td>\n",
       "    </tr>\n",
       "    <tr>\n",
       "      <th>3</th>\n",
       "      <td>M6A</td>\n",
       "      <td>North York</td>\n",
       "      <td>Lawrence Manor / Lawrence Heights</td>\n",
       "    </tr>\n",
       "    <tr>\n",
       "      <th>4</th>\n",
       "      <td>M7A</td>\n",
       "      <td>Downtown Toronto</td>\n",
       "      <td>Queen's Park / Ontario Provincial Government</td>\n",
       "    </tr>\n",
       "  </tbody>\n",
       "</table>\n",
       "</div>"
      ],
      "text/plain": [
       "  Postal code           Borough                                  Neighborhood\n",
       "0         M3A        North York                                     Parkwoods\n",
       "1         M4A        North York                              Victoria Village\n",
       "2         M5A  Downtown Toronto                    Regent Park / Harbourfront\n",
       "3         M6A        North York             Lawrence Manor / Lawrence Heights\n",
       "4         M7A  Downtown Toronto  Queen's Park / Ontario Provincial Government"
      ]
     },
     "execution_count": 6,
     "metadata": {},
     "output_type": "execute_result"
    }
   ],
   "source": [
    "df['Neighborhood'] = df.groupby('Postal code')['Neighborhood'].transform(lambda x: ','.join(x))\n",
    "df.head()\n"
   ]
  },
  {
   "cell_type": "markdown",
   "metadata": {},
   "source": [
    "#### printing shape"
   ]
  },
  {
   "cell_type": "code",
   "execution_count": 7,
   "metadata": {
    "scrolled": true
   },
   "outputs": [
    {
     "name": "stdout",
     "output_type": "stream",
     "text": [
      "(103, 3)\n"
     ]
    }
   ],
   "source": [
    "print(df.shape)"
   ]
  },
  {
   "cell_type": "markdown",
   "metadata": {},
   "source": [
    "# Part 2"
   ]
  },
  {
   "cell_type": "markdown",
   "metadata": {},
   "source": [
    "#### Importing coordinates into separate dataframe of postal codes"
   ]
  },
  {
   "cell_type": "code",
   "execution_count": 8,
   "metadata": {},
   "outputs": [
    {
     "data": {
      "text/html": [
       "<div>\n",
       "<style scoped>\n",
       "    .dataframe tbody tr th:only-of-type {\n",
       "        vertical-align: middle;\n",
       "    }\n",
       "\n",
       "    .dataframe tbody tr th {\n",
       "        vertical-align: top;\n",
       "    }\n",
       "\n",
       "    .dataframe thead th {\n",
       "        text-align: right;\n",
       "    }\n",
       "</style>\n",
       "<table border=\"1\" class=\"dataframe\">\n",
       "  <thead>\n",
       "    <tr style=\"text-align: right;\">\n",
       "      <th></th>\n",
       "      <th>Postal Code</th>\n",
       "      <th>Latitude</th>\n",
       "      <th>Longitude</th>\n",
       "    </tr>\n",
       "  </thead>\n",
       "  <tbody>\n",
       "    <tr>\n",
       "      <th>0</th>\n",
       "      <td>M1B</td>\n",
       "      <td>43.806686</td>\n",
       "      <td>-79.194353</td>\n",
       "    </tr>\n",
       "    <tr>\n",
       "      <th>1</th>\n",
       "      <td>M1C</td>\n",
       "      <td>43.784535</td>\n",
       "      <td>-79.160497</td>\n",
       "    </tr>\n",
       "    <tr>\n",
       "      <th>2</th>\n",
       "      <td>M1E</td>\n",
       "      <td>43.763573</td>\n",
       "      <td>-79.188711</td>\n",
       "    </tr>\n",
       "    <tr>\n",
       "      <th>3</th>\n",
       "      <td>M1G</td>\n",
       "      <td>43.770992</td>\n",
       "      <td>-79.216917</td>\n",
       "    </tr>\n",
       "    <tr>\n",
       "      <th>4</th>\n",
       "      <td>M1H</td>\n",
       "      <td>43.773136</td>\n",
       "      <td>-79.239476</td>\n",
       "    </tr>\n",
       "  </tbody>\n",
       "</table>\n",
       "</div>"
      ],
      "text/plain": [
       "  Postal Code   Latitude  Longitude\n",
       "0         M1B  43.806686 -79.194353\n",
       "1         M1C  43.784535 -79.160497\n",
       "2         M1E  43.763573 -79.188711\n",
       "3         M1G  43.770992 -79.216917\n",
       "4         M1H  43.773136 -79.239476"
      ]
     },
     "execution_count": 8,
     "metadata": {},
     "output_type": "execute_result"
    }
   ],
   "source": [
    "\n",
    "df_postal = pd.read_csv('https://cocl.us/Geospatial_data')\n",
    "df_postal.head()"
   ]
  },
  {
   "cell_type": "markdown",
   "metadata": {},
   "source": [
    "#### Merging previous dataframe with postalcodes dataframe with postalcode as the key"
   ]
  },
  {
   "cell_type": "code",
   "execution_count": 9,
   "metadata": {},
   "outputs": [
    {
     "data": {
      "text/html": [
       "<div>\n",
       "<style scoped>\n",
       "    .dataframe tbody tr th:only-of-type {\n",
       "        vertical-align: middle;\n",
       "    }\n",
       "\n",
       "    .dataframe tbody tr th {\n",
       "        vertical-align: top;\n",
       "    }\n",
       "\n",
       "    .dataframe thead th {\n",
       "        text-align: right;\n",
       "    }\n",
       "</style>\n",
       "<table border=\"1\" class=\"dataframe\">\n",
       "  <thead>\n",
       "    <tr style=\"text-align: right;\">\n",
       "      <th></th>\n",
       "      <th>Postal code</th>\n",
       "      <th>Borough</th>\n",
       "      <th>Neighborhood</th>\n",
       "      <th>Postal Code</th>\n",
       "      <th>Latitude</th>\n",
       "      <th>Longitude</th>\n",
       "    </tr>\n",
       "  </thead>\n",
       "  <tbody>\n",
       "    <tr>\n",
       "      <th>0</th>\n",
       "      <td>M3A</td>\n",
       "      <td>North York</td>\n",
       "      <td>Parkwoods</td>\n",
       "      <td>M3A</td>\n",
       "      <td>43.753259</td>\n",
       "      <td>-79.329656</td>\n",
       "    </tr>\n",
       "    <tr>\n",
       "      <th>1</th>\n",
       "      <td>M4A</td>\n",
       "      <td>North York</td>\n",
       "      <td>Victoria Village</td>\n",
       "      <td>M4A</td>\n",
       "      <td>43.725882</td>\n",
       "      <td>-79.315572</td>\n",
       "    </tr>\n",
       "    <tr>\n",
       "      <th>2</th>\n",
       "      <td>M5A</td>\n",
       "      <td>Downtown Toronto</td>\n",
       "      <td>Regent Park / Harbourfront</td>\n",
       "      <td>M5A</td>\n",
       "      <td>43.654260</td>\n",
       "      <td>-79.360636</td>\n",
       "    </tr>\n",
       "    <tr>\n",
       "      <th>3</th>\n",
       "      <td>M6A</td>\n",
       "      <td>North York</td>\n",
       "      <td>Lawrence Manor / Lawrence Heights</td>\n",
       "      <td>M6A</td>\n",
       "      <td>43.718518</td>\n",
       "      <td>-79.464763</td>\n",
       "    </tr>\n",
       "    <tr>\n",
       "      <th>4</th>\n",
       "      <td>M7A</td>\n",
       "      <td>Downtown Toronto</td>\n",
       "      <td>Queen's Park / Ontario Provincial Government</td>\n",
       "      <td>M7A</td>\n",
       "      <td>43.662301</td>\n",
       "      <td>-79.389494</td>\n",
       "    </tr>\n",
       "  </tbody>\n",
       "</table>\n",
       "</div>"
      ],
      "text/plain": [
       "  Postal code           Borough                                  Neighborhood  \\\n",
       "0         M3A        North York                                     Parkwoods   \n",
       "1         M4A        North York                              Victoria Village   \n",
       "2         M5A  Downtown Toronto                    Regent Park / Harbourfront   \n",
       "3         M6A        North York             Lawrence Manor / Lawrence Heights   \n",
       "4         M7A  Downtown Toronto  Queen's Park / Ontario Provincial Government   \n",
       "\n",
       "  Postal Code   Latitude  Longitude  \n",
       "0         M3A  43.753259 -79.329656  \n",
       "1         M4A  43.725882 -79.315572  \n",
       "2         M5A  43.654260 -79.360636  \n",
       "3         M6A  43.718518 -79.464763  \n",
       "4         M7A  43.662301 -79.389494  "
      ]
     },
     "execution_count": 9,
     "metadata": {},
     "output_type": "execute_result"
    }
   ],
   "source": [
    "df3 = pd.merge(\n",
    "    df,\n",
    "    df_postal,\n",
    "    left_on=['Postal code'],\n",
    "    right_on=['Postal Code'],\n",
    "    suffixes=('_left','_right')    \n",
    ")\n",
    "\n",
    "df3.head()\n"
   ]
  },
  {
   "cell_type": "markdown",
   "metadata": {},
   "source": [
    "# Part 3"
   ]
  },
  {
   "cell_type": "code",
   "execution_count": 10,
   "metadata": {},
   "outputs": [],
   "source": [
    "np.random.seed(0)"
   ]
  },
  {
   "cell_type": "code",
   "execution_count": 11,
   "metadata": {},
   "outputs": [
    {
     "data": {
      "text/plain": [
       "<matplotlib.collections.PathCollection at 0x1dc6d340088>"
      ]
     },
     "execution_count": 11,
     "metadata": {},
     "output_type": "execute_result"
    },
    {
     "data": {
      "image/png": "[encoded data removed]",
      "text/plain": [
       "<Figure size 432x288 with 1 Axes>"
      ]
     },
     "metadata": {
      "needs_background": "light"
     },
     "output_type": "display_data"
    }
   ],
   "source": [
    "plt.scatter(df3['Latitude'], df3['Longitude'], marker='.')"
   ]
  },
  {
   "cell_type": "markdown",
   "metadata": {},
   "source": [
    "#### Scale the input values in order to get better results"
   ]
  },
  {
   "cell_type": "code",
   "execution_count": 17,
   "metadata": {},
   "outputs": [
    {
     "data": {
      "text/plain": [
       "array([[ 0.93187104,  0.69818881],\n",
       "       [ 0.40749844,  0.84388426],\n",
       "       [-0.96437519,  0.37773518],\n",
       "       [ 0.26644077, -0.6993678 ],\n",
       "       [-0.81034434,  0.07922652],\n",
       "       [-0.7039597 , -1.39737754],\n",
       "       [ 1.95523876,  2.09777597],\n",
       "       [ 0.79103364,  0.465121  ],\n",
       "       [ 0.03427589,  0.90216906],\n",
       "       [-0.90879146,  0.18842596],\n",
       "       [ 0.09518258, -0.49568547],\n",
       "       [-1.0279041 , -1.62993333],\n",
       "       [ 1.53094905,  2.44798852],\n",
       "       [ 0.40783172,  0.58164715],\n",
       "       [-0.17744183,  0.81474393],\n",
       "       [-1.01735586,  0.22482887],\n",
       "       [-0.20737226, -0.32106485],\n",
       "       [-1.1701819 , -1.86243118],\n",
       "       [ 1.12942801,  2.15613628],\n",
       "       [-0.54111407,  1.07704414],\n",
       "       [-1.14613182,  0.24667041],\n",
       "       [-0.29846415, -0.58298336],\n",
       "       [ 1.271543  ,  1.86437197],\n",
       "       [ 0.0852875 ,  0.3486083 ],\n",
       "       [-0.89364811,  0.10106496],\n",
       "       [-0.67165797, -0.26285143],\n",
       "       [ 1.3126078 ,  1.6310228 ],\n",
       "       [ 1.89922981,  0.3486083 ],\n",
       "       [ 0.95236034, -0.46658445],\n",
       "       [ 0.01457957,  0.49425098],\n",
       "       [-1.03502949,  0.1301846 ],\n",
       "       [-0.68194189, -0.46658445],\n",
       "       [ 0.76859251,  1.6310228 ],\n",
       "       [ 1.41568642,  0.523382  ],\n",
       "       [ 1.21385421, -0.9320953 ],\n",
       "       [-0.36892499,  0.61078127],\n",
       "       [-1.22188881,  0.15930528],\n",
       "       [-1.08568291, -0.23374316],\n",
       "       [ 0.44670528,  1.39772948],\n",
       "       [ 1.57715295,  0.1156253 ],\n",
       "       [ 0.62951348, -0.6993678 ],\n",
       "       [-0.4798262 ,  0.465121  ],\n",
       "       [-1.10004669,  0.16112481],\n",
       "       [-1.29790247, -0.32106485],\n",
       "       [ 0.12457862,  1.16449306],\n",
       "       [ 1.01292418,  0.23210904],\n",
       "       [ 0.65903784, -1.13568453],\n",
       "       [-0.68206831,  0.84388426],\n",
       "       [-1.08047678,  0.17932523],\n",
       "       [ 0.17523204, -0.96118184],\n",
       "       [ 0.99018999, -1.74618949],\n",
       "       [ 0.2242631 ,  1.6310228 ],\n",
       "       [ 1.61748606, -0.1173008 ],\n",
       "       [ 0.45756957, -1.01935285],\n",
       "       [-0.86351655,  0.58164715],\n",
       "       [ 0.54924375, -0.23374316],\n",
       "       [-0.25842793, -0.81573879],\n",
       "       [ 0.38611463, -1.39737754],\n",
       "       [-0.22890739,  1.3685726 ],\n",
       "       [ 1.25483666, -0.1173008 ],\n",
       "       [ 1.09224386, -1.28107896],\n",
       "       [ 0.44845406,  0.08650566],\n",
       "       [ 0.13574746, -0.20463387],\n",
       "       [-0.60187328, -0.9320953 ],\n",
       "       [ 0.04344694, -1.25200173],\n",
       "       [ 1.01138034,  1.28110403],\n",
       "       [ 0.92228816, -0.0299605 ],\n",
       "       [ 0.1559801 ,  0.07194739],\n",
       "       [-0.14672415, -0.1464132 ],\n",
       "       [-0.82362207, -0.6993678 ],\n",
       "       [-0.15876451, -1.39737754],\n",
       "       [ 0.87082451,  1.04789553],\n",
       "       [ 1.4964963 , -0.46658445],\n",
       "       [ 0.20639984, -0.0881884 ],\n",
       "       [-0.61098304, -0.0881884 ],\n",
       "       [-1.06589657, -0.61208128],\n",
       "       [-1.2956346 , -2.26190124],\n",
       "       [-0.30076649, -1.62993333],\n",
       "       [ 1.71607875,  1.39772948],\n",
       "       [-0.00542705,  0.08650566],\n",
       "       [-0.80279565, -0.0299605 ],\n",
       "       [-1.01588673, -0.90300772],\n",
       "       [ 1.47544769,  0.96045696],\n",
       "       [-0.28795421,  0.14474494],\n",
       "       [-0.9845676 , -0.0299605 ],\n",
       "       [ 2.11931218,  1.16449306],\n",
       "       [-0.34851996, -0.0299605 ],\n",
       "       [-1.44923065,  0.02827051],\n",
       "       [-1.89552668, -1.07752076],\n",
       "       [ 0.66673402, -1.97865839],\n",
       "       [ 1.81807323,  0.81474393],\n",
       "       [-0.47972085,  0.20298733],\n",
       "       [-1.11425148,  0.23074465],\n",
       "       [-1.95745046, -1.51366267],\n",
       "       [ 0.04100094, -2.0367663 ],\n",
       "       [ 2.51910935,  1.98106673],\n",
       "       [-0.70182592,  0.30491901],\n",
       "       [-1.0760579 ,  0.15384464],\n",
       "       [-0.97598841, -1.13568453],\n",
       "       [-0.74218585,  0.14474494],\n",
       "       [-0.8018705 ,  0.78196041],\n",
       "       [-1.30919007, -1.04843732],\n",
       "       [-1.45125908, -1.28107896]])"
      ]
     },
     "execution_count": 17,
     "metadata": {},
     "output_type": "execute_result"
    }
   ],
   "source": [
    "from sklearn.preprocessing import StandardScaler\n",
    "X = df3.values[:,4:]\n",
    "X = np.nan_to_num(X)\n",
    "Clus_dataSet = StandardScaler().fit_transform(X)\n",
    "Clus_dataSet"
   ]
  },
  {
   "cell_type": "markdown",
   "metadata": {},
   "source": [
    "#### model the data"
   ]
  },
  {
   "cell_type": "code",
   "execution_count": 29,
   "metadata": {},
   "outputs": [
    {
     "name": "stdout",
     "output_type": "stream",
     "text": [
      "[6 7 2 1 2 3 0 6 7 2 1 3 0 7 7 2 1 3 0 7 2 1 0 7 2 2 0 6 4 7 2 1 0 6 5 7 2\n",
      " 2 0 4 1 7 2 2 7 4 5 7 2 1 5 0 4 5 7 4 1 5 7 4 5 4 4 1 5 6 4 4 2 1 5 6 4 4\n",
      " 2 1 3 5 0 2 2 1 6 2 2 6 2 2 3 5 6 2 2 3 5 0 2 2 3 2 7 3 3]\n"
     ]
    }
   ],
   "source": [
    "from sklearn.cluster import KMeans \n",
    "\n",
    "clusterNum = 8\n",
    "k_means = KMeans(init = \"k-means++\", n_clusters = clusterNum, n_init = 12)\n",
    "k_means.fit(X)\n",
    "labels = k_means.labels_\n",
    "print(labels)"
   ]
  },
  {
   "cell_type": "code",
   "execution_count": 31,
   "metadata": {},
   "outputs": [
    {
     "name": "stdout",
     "output_type": "stream",
     "text": [
      "[[ 43.77182265 -79.22086026]\n",
      " [ 43.68813134 -79.46312076]\n",
      " [ 43.66046495 -79.38970715]\n",
      " [ 43.63623247 -79.53902706]\n",
      " [ 43.74954714 -79.40696616]\n",
      " [ 43.72876881 -79.53606859]\n",
      " [ 43.7761489  -79.318697  ]\n",
      " [ 43.69316075 -79.32203196]]\n"
     ]
    },
    {
     "data": {
      "text/html": [
       "<div>\n",
       "<style scoped>\n",
       "    .dataframe tbody tr th:only-of-type {\n",
       "        vertical-align: middle;\n",
       "    }\n",
       "\n",
       "    .dataframe tbody tr th {\n",
       "        vertical-align: top;\n",
       "    }\n",
       "\n",
       "    .dataframe thead th {\n",
       "        text-align: right;\n",
       "    }\n",
       "</style>\n",
       "<table border=\"1\" class=\"dataframe\">\n",
       "  <thead>\n",
       "    <tr style=\"text-align: right;\">\n",
       "      <th></th>\n",
       "      <th>Postal code</th>\n",
       "      <th>Borough</th>\n",
       "      <th>Neighborhood</th>\n",
       "      <th>Postal Code</th>\n",
       "      <th>Latitude</th>\n",
       "      <th>Longitude</th>\n",
       "      <th>Labels</th>\n",
       "    </tr>\n",
       "  </thead>\n",
       "  <tbody>\n",
       "    <tr>\n",
       "      <th>0</th>\n",
       "      <td>M3A</td>\n",
       "      <td>North York</td>\n",
       "      <td>Parkwoods</td>\n",
       "      <td>M3A</td>\n",
       "      <td>43.753259</td>\n",
       "      <td>-79.329656</td>\n",
       "      <td>6</td>\n",
       "    </tr>\n",
       "    <tr>\n",
       "      <th>1</th>\n",
       "      <td>M4A</td>\n",
       "      <td>North York</td>\n",
       "      <td>Victoria Village</td>\n",
       "      <td>M4A</td>\n",
       "      <td>43.725882</td>\n",
       "      <td>-79.315572</td>\n",
       "      <td>7</td>\n",
       "    </tr>\n",
       "    <tr>\n",
       "      <th>2</th>\n",
       "      <td>M5A</td>\n",
       "      <td>Downtown Toronto</td>\n",
       "      <td>Regent Park / Harbourfront</td>\n",
       "      <td>M5A</td>\n",
       "      <td>43.654260</td>\n",
       "      <td>-79.360636</td>\n",
       "      <td>2</td>\n",
       "    </tr>\n",
       "    <tr>\n",
       "      <th>3</th>\n",
       "      <td>M6A</td>\n",
       "      <td>North York</td>\n",
       "      <td>Lawrence Manor / Lawrence Heights</td>\n",
       "      <td>M6A</td>\n",
       "      <td>43.718518</td>\n",
       "      <td>-79.464763</td>\n",
       "      <td>1</td>\n",
       "    </tr>\n",
       "    <tr>\n",
       "      <th>4</th>\n",
       "      <td>M7A</td>\n",
       "      <td>Downtown Toronto</td>\n",
       "      <td>Queen's Park / Ontario Provincial Government</td>\n",
       "      <td>M7A</td>\n",
       "      <td>43.662301</td>\n",
       "      <td>-79.389494</td>\n",
       "      <td>2</td>\n",
       "    </tr>\n",
       "  </tbody>\n",
       "</table>\n",
       "</div>"
      ],
      "text/plain": [
       "  Postal code           Borough                                  Neighborhood  \\\n",
       "0         M3A        North York                                     Parkwoods   \n",
       "1         M4A        North York                              Victoria Village   \n",
       "2         M5A  Downtown Toronto                    Regent Park / Harbourfront   \n",
       "3         M6A        North York             Lawrence Manor / Lawrence Heights   \n",
       "4         M7A  Downtown Toronto  Queen's Park / Ontario Provincial Government   \n",
       "\n",
       "  Postal Code   Latitude  Longitude  Labels  \n",
       "0         M3A  43.753259 -79.329656       6  \n",
       "1         M4A  43.725882 -79.315572       7  \n",
       "2         M5A  43.654260 -79.360636       2  \n",
       "3         M6A  43.718518 -79.464763       1  \n",
       "4         M7A  43.662301 -79.389494       2  "
      ]
     },
     "execution_count": 31,
     "metadata": {},
     "output_type": "execute_result"
    }
   ],
   "source": [
    "\n",
    "k_means_cluster_centers = k_means.cluster_centers_\n",
    "print(k_means_cluster_centers)\n",
    "\n",
    "df3[\"Labels\"] = labels\n",
    "df3.head(5)"
   ]
  },
  {
   "cell_type": "code",
   "execution_count": 89,
   "metadata": {},
   "outputs": [
    {
     "data": {
      "text/html": [
       "<div style=\"width:100%;\"><div style=\"position:relative;width:100%;height:0;padding-bottom:60%;\"><iframe src=\"about:blank\" style=\"position:absolute;width:100%;height:100%;left:0;top:0;border:none !important;\" data-html=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 onload=\"this.contentDocument.open();this.contentDocument.write(atob(this.getAttribute('data-html')));this.contentDocument.close();\" allowfullscreen webkitallowfullscreen mozallowfullscreen></iframe></div></div>"
      ],
      "text/plain": [
       "<folium.folium.Map at 0x1dc7308b948>"
      ]
     },
     "execution_count": 89,
     "metadata": {},
     "output_type": "execute_result"
    }
   ],
   "source": [
    "# define the world map centered around Canada with a low zoom level\n",
    "canada_map = folium.Map(location=[43.651070, -79.347300], zoom_start=11)\n",
    "\n",
    "points = folium.map.FeatureGroup()\n",
    "\n",
    "# loop through the 100 crimes and add each to the incidents feature group\n",
    "for lat, lng in zip(df3.Latitude, df3.Longitude):\n",
    "    points.add_child(\n",
    "        folium.features.CircleMarker(\n",
    "            [lat, lng],\n",
    "            radius=3, # define how big you want the circle markers to be\n",
    "            color='yellow',\n",
    "            fill=True,\n",
    "            fill_color='blue',\n",
    "            fill_opacity=0.6))\n",
    "\n",
    "    \n",
    "for lat, lng, label in zip(df3.Latitude, df3.Longitude, str(df3.Labels)):\n",
    "    folium.Marker([lat, lng], popup=label).add_to((canada_map))\n",
    "\n",
    "canada_map.add_child(points)\n",
    "canada_map"
   ]
  },
  {
   "cell_type": "code",
   "execution_count": null,
   "metadata": {},
   "outputs": [],
   "source": []
  },
  {
   "cell_type": "code",
   "execution_count": null,
   "metadata": {},
   "outputs": [],
   "source": []
  },
  {
   "cell_type": "code",
   "execution_count": null,
   "metadata": {},
   "outputs": [],
   "source": []
  }
 ],
 "metadata": {
  "kernelspec": {
   "display_name": "Python 3",
   "language": "python",
   "name": "python3"
  },
  "language_info": {
   "codemirror_mode": {
    "name": "ipython",
    "version": 3
   },
   "file_extension": ".py",
   "mimetype": "text/x-python",
   "name": "python",
   "nbconvert_exporter": "python",
   "pygments_lexer": "ipython3",
   "version": "3.7.6"
  }
 },
 "nbformat": 4,
 "nbformat_minor": 4
}
